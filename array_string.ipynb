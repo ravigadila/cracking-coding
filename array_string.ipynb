{
 "cells": [
  {
   "cell_type": "markdown",
   "id": "6fcdedf2-4cf2-440e-886a-2852fb798531",
   "metadata": {},
   "source": [
    "1. Dtermine whether string has all unique chars."
   ]
  },
  {
   "cell_type": "code",
   "execution_count": 1,
   "id": "7bd5c2de-d518-4627-8bf4-debfd1f37f48",
   "metadata": {
    "tags": []
   },
   "outputs": [],
   "source": [
    "inp_str = \"ThinkPad\""
   ]
  },
  {
   "cell_type": "code",
   "execution_count": null,
   "id": "5a4e2088-82a1-4877-8600-cd758fd18bc5",
   "metadata": {},
   "outputs": [],
   "source": []
  }
 ],
 "metadata": {
  "kernelspec": {
   "display_name": "Python 3 (ipykernel)",
   "language": "python",
   "name": "python3"
  },
  "language_info": {
   "codemirror_mode": {
    "name": "ipython",
    "version": 3
   },
   "file_extension": ".py",
   "mimetype": "text/x-python",
   "name": "python",
   "nbconvert_exporter": "python",
   "pygments_lexer": "ipython3",
   "version": "3.10.8"
  }
 },
 "nbformat": 4,
 "nbformat_minor": 5
}
