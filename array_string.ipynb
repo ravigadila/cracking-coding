{
 "cells": [
  {
   "cell_type": "markdown",
   "id": "6fcdedf2-4cf2-440e-886a-2852fb798531",
   "metadata": {},
   "source": [
    "## Write Programs.\n",
    "#### 1. Dtermine whether string has all unique chars."
   ]
  },
  {
   "cell_type": "code",
   "execution_count": 17,
   "id": "7bd5c2de-d518-4627-8bf4-debfd1f37f48",
   "metadata": {
    "tags": []
   },
   "outputs": [
    {
     "name": "stdout",
     "output_type": "stream",
     "text": [
      "True\n",
      "False\n"
     ]
    }
   ],
   "source": [
    "def is_unique_str(inp_str):\n",
    "    if len(inp_str) == len(set(inp_str)):\n",
    "        return True\n",
    "    return False\n",
    "\n",
    "inp_str = \"ThinkPad\"\n",
    "print(is_unique_str(inp_str))\n",
    "inp_str = \"Hello\"\n",
    "print(is_unique_str(inp_str))"
   ]
  },
  {
   "cell_type": "code",
   "execution_count": 22,
   "id": "5a4e2088-82a1-4877-8600-cd758fd18bc5",
   "metadata": {},
   "outputs": [
    {
     "name": "stdout",
     "output_type": "stream",
     "text": [
      "84\n",
      "104\n",
      "105\n",
      "110\n",
      "107\n",
      "80\n",
      "97\n",
      "100\n",
      "True\n",
      "72\n",
      "101\n",
      "108\n",
      "108\n",
      "False\n"
     ]
    }
   ],
   "source": [
    "def is_unique_str(inp_str):\n",
    "    charAscii = []\n",
    "    for i in inp_str:\n",
    "        print(ord(i))\n",
    "        if ord(i) in charAscii:\n",
    "            return False\n",
    "        charAscii.append(ord(i))\n",
    "    return True\n",
    "    \n",
    "inp_str = \"ThinkPad\"\n",
    "print(is_unique_str(inp_str))\n",
    "inp_str = \"Hello\"\n",
    "print(is_unique_str(inp_str))"
   ]
  },
  {
   "cell_type": "code",
   "execution_count": null,
   "id": "e4caa317-f56b-4d6b-b6a6-fe94b6c07d21",
   "metadata": {},
   "outputs": [],
   "source": []
  }
 ],
 "metadata": {
  "kernelspec": {
   "display_name": "Python 3 (ipykernel)",
   "language": "python",
   "name": "python3"
  },
  "language_info": {
   "codemirror_mode": {
    "name": "ipython",
    "version": 3
   },
   "file_extension": ".py",
   "mimetype": "text/x-python",
   "name": "python",
   "nbconvert_exporter": "python",
   "pygments_lexer": "ipython3",
   "version": "3.10.8"
  }
 },
 "nbformat": 4,
 "nbformat_minor": 5
}
